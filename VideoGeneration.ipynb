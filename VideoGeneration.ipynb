{
 "cells": [
  {
   "cell_type": "code",
   "execution_count": 35,
   "metadata": {},
   "outputs": [
    {
     "name": "stdout",
     "output_type": "stream",
     "text": [
      "07_Blue_Hunchback/07_Blue_Hunchback_01/*.jpg\n",
      "07_Blue_Hunchback/07_Blue_Hunchback_01/190527_07_Blue_Hunchback_01.mov\n",
      "07_Blue_Hunchback/07_Blue_Hunchback_02/*.jpg\n",
      "07_Blue_Hunchback/07_Blue_Hunchback_02/190527_07_Blue_Hunchback_02.mov\n",
      "07_Blue_Hunchback/07_Blue_Hunchback_03/*.jpg\n",
      "07_Blue_Hunchback/07_Blue_Hunchback_03/190527_07_Blue_Hunchback_03.mov\n",
      "07_Blue_Hunchback/07_Blue_Hunchback_04/*.jpg\n",
      "07_Blue_Hunchback/07_Blue_Hunchback_04/190527_07_Blue_Hunchback_04.mov\n",
      "07_Blue_Hunchback/07_Blue_Hunchback_05/*.jpg\n",
      "07_Blue_Hunchback/07_Blue_Hunchback_05/190527_07_Blue_Hunchback_05.mov\n",
      "07_Blue_Hunchback/07_Blue_Hunchback_06/*.jpg\n",
      "07_Blue_Hunchback/07_Blue_Hunchback_06/190527_07_Blue_Hunchback_06.mov\n",
      "07_Blue_Hunchback/07_Blue_Hunchback_07/*.jpg\n",
      "07_Blue_Hunchback/07_Blue_Hunchback_07/190527_07_Blue_Hunchback_07.mov\n",
      "07_Blue_Hunchback/07_Blue_Hunchback_08/*.jpg\n",
      "07_Blue_Hunchback/07_Blue_Hunchback_08/190527_07_Blue_Hunchback_08.mov\n",
      "07_Blue_Hunchback/07_Blue_Hunchback_09/*.jpg\n",
      "07_Blue_Hunchback/07_Blue_Hunchback_09/190527_07_Blue_Hunchback_09.mov\n",
      "07_Blue_Hunchback/07_Blue_Hunchback_10/*.jpg\n",
      "07_Blue_Hunchback/07_Blue_Hunchback_10/190527_07_Blue_Hunchback_10.mov\n"
     ]
    }
   ],
   "source": [
    "##Program to generate video files for each trial\n",
    "\n",
    "\n",
    "import cv2\n",
    "import numpy as np\n",
    "import glob\n",
    "import re\n",
    "\n",
    "#Sorting function to sort files correctly in ascending order\n",
    "numbers = re.compile(r'(\\d+)')\n",
    "def numericalSort(value):\n",
    "    parts = numbers.split(value)\n",
    "    parts[1::2] = map(int, parts[1::2])\n",
    "    return parts\n",
    "\n",
    "#Create video file for all trials for a given genotype\n",
    "trials_num = ['01','02','03','04','05','06','07','08','09','10']\n",
    "for idx in trials_num:\n",
    "    \n",
    "    #Only parameters to change depending on the genotype\n",
    "    Genotype = '07_Blue_Hunchback'\n",
    "    trial = '/07_Blue_Hunchback_'+idx+\"/\"\n",
    "    \n",
    "    \n",
    "    path = Genotype + trial\n",
    "    ext = \"*.jpg\"\n",
    "    input_path = path + ext\n",
    "    print(input_path)\n",
    "    img_array = []\n",
    "    for filename in sorted(glob.glob(input_path), key=numericalSort):\n",
    "        #print (\"Current File Being Processed is: \" + filename)\n",
    "        img = cv2.imread(filename)\n",
    "        height, width, layers = img.shape\n",
    "        size = (width,height)\n",
    "        img_array.append(img)\n",
    "    \n",
    "    #Specify output location with date\n",
    "    videofile = path + '190527_' + Genotype + '_'+ idx + '.mov'\n",
    "    print(videofile)\n",
    "    \n",
    "    #Produce video at 10 fps\n",
    "    out = cv2.VideoWriter(videofile,cv2.VideoWriter_fourcc(*'DIVX'), 10, size)\n",
    "\n",
    "    for i in range(len(img_array)):\n",
    "        out.write(img_array[i])\n",
    "    out.release()"
   ]
  },
  {
   "cell_type": "code",
   "execution_count": null,
   "metadata": {},
   "outputs": [],
   "source": []
  }
 ],
 "metadata": {
  "kernelspec": {
   "display_name": "Python 3",
   "language": "python",
   "name": "python3"
  },
  "language_info": {
   "codemirror_mode": {
    "name": "ipython",
    "version": 3
   },
   "file_extension": ".py",
   "mimetype": "text/x-python",
   "name": "python",
   "nbconvert_exporter": "python",
   "pygments_lexer": "ipython3",
   "version": "3.6.8"
  }
 },
 "nbformat": 4,
 "nbformat_minor": 2
}
